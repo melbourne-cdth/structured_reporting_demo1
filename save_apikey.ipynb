{
 "cells": [
  {
   "cell_type": "code",
   "execution_count": null,
   "id": "aa2d046a",
   "metadata": {},
   "outputs": [],
   "source": [
    "apiKey = \"REPLACE THIS WITH YOUR APIKEY FROM BIOPORTAL\"\n",
    "username = \"set this to your username\"\n",
    "with open(\".apikey\", \"w\") as f:\n",
    "    f.write(apiKey)"
   ]
  }
 ],
 "metadata": {
  "kernelspec": {
   "display_name": "Python 3 (ipykernel)",
   "language": "python",
   "name": "python3"
  },
  "language_info": {
   "codemirror_mode": {
    "name": "ipython",
    "version": 3
   },
   "file_extension": ".py",
   "mimetype": "text/x-python",
   "name": "python",
   "nbconvert_exporter": "python",
   "pygments_lexer": "ipython3",
   "version": "3.9.7"
  }
 },
 "nbformat": 4,
 "nbformat_minor": 5
}
