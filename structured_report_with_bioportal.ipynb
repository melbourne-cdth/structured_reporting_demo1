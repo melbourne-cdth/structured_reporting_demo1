{
 "cells": [
  {
   "cell_type": "markdown",
   "metadata": {},
   "source": [
    "# Dynamic Documentation with Bioportal\n",
    "\n",
    "In order to complete this notebook, you will need to create a [Bioportal account](https://bioportal.bioontology.org/accounts/new). Once you have created your account in the cell below replace `REPLACE THIS WITH YOUR API KEY` with your api key and run the cell.. From the Bioportal documentation, \"Your API key will be listed in plain text on your account page.\" Also replace `username` below with your University of Melbourne login.\n"
   ]
  },
  {
   "cell_type": "code",
   "execution_count": null,
   "metadata": {},
   "outputs": [],
   "source": [
    "from IPython.display import YouTubeVideo\n",
    "YouTubeVideo(\"xZe_xtyyLb4\")"
   ]
  },
  {
   "cell_type": "code",
   "execution_count": null,
   "metadata": {},
   "outputs": [],
   "source": [
    "\n",
    "with open(\".apikey\", \"r\") as f:\n",
    "    apiKey = f.read()"
   ]
  },
  {
   "cell_type": "code",
   "execution_count": null,
   "metadata": {},
   "outputs": [],
   "source": [
    "from bioportal.metadataCollector import *\n",
    "import ipywidgets as ipw\n",
    "import os"
   ]
  },
  {
   "cell_type": "code",
   "execution_count": null,
   "metadata": {},
   "outputs": [],
   "source": [
    "REPORT_DIR = \"./gen_reports\""
   ]
  },
  {
   "cell_type": "code",
   "execution_count": null,
   "metadata": {},
   "outputs": [],
   "source": [
    "with open(\".apikey\") as f0:\n",
    "    apiKey = f0.read().strip()\n",
    "username=\"bcchap\"\n",
    "OUTDIR = os.path.join(REPORT_DIR, username)\n",
    "if not os.path.exists(OUTDIR):\n",
    "    os.makedirs(OUTDIR)"
   ]
  },
  {
   "cell_type": "code",
   "execution_count": null,
   "metadata": {},
   "outputs": [],
   "source": [
    "rr = RadiologyReport(apiKey, OUTDIR)\n",
    "rr.display()"
   ]
  },
  {
   "cell_type": "code",
   "execution_count": null,
   "metadata": {},
   "outputs": [],
   "source": [
    "rr._rdir"
   ]
  },
  {
   "cell_type": "code",
   "execution_count": null,
   "metadata": {},
   "outputs": [],
   "source": [
    "rr.create_report()"
   ]
  },
  {
   "cell_type": "code",
   "execution_count": null,
   "metadata": {},
   "outputs": [],
   "source": [
    "import json\n",
    "import copy"
   ]
  },
  {
   "cell_type": "code",
   "execution_count": null,
   "metadata": {},
   "outputs": [],
   "source": [
    "tmp = copy.copy(rr._report)"
   ]
  },
  {
   "cell_type": "code",
   "execution_count": null,
   "metadata": {},
   "outputs": [],
   "source": [
    "tmp=defaultdict(list,\n",
    "            {'procedures': [('Superselective catheter placement (one or more second order or higher renal artery branches) renal artery and any accessory renal artery(s) for renal angiography, including arterial puncture, catheterization, fluoroscopy, contrast injection(s), image postprocessing, permanent recording of images, and radiological supervision and interpretation, including pressure gradient measurements when performed, and flush aortogram when performed',\n",
    "               'http://purl.bioontology.org/ontology/CPT/1020905')],\n",
    "             'findings': [(('right ureter', 'http://radlex.org/RID/RID30844'),\n",
    "               ('tortuous', 'http://radlex.org/RID/RID5916'),\n",
    "               ('severe', 'http://radlex.org/RID/RID5673')),\n",
    "              (('mass', 'http://radlex.org/RID/RID3874'),\n",
    "               ('right kidney', 'http://radlex.org/RID/RID29662'),\n",
    "               ('large', 'http://radlex.org/RID/RID5778')),\n",
    "              (('left kidney', 'http://radlex.org/RID/RID29663'),\n",
    "               ('normal', 'http://radlex.org/RID/RID13173'),\n",
    "               ('definite', 'http://radlex.org/RID/RID39047'))],\n",
    "             'diagnoses': []})"
   ]
  },
  {
   "cell_type": "code",
   "execution_count": null,
   "metadata": {},
   "outputs": [],
   "source": [
    "json.dumps(tmp)"
   ]
  },
  {
   "cell_type": "code",
   "execution_count": null,
   "metadata": {},
   "outputs": [],
   "source": [
    "\n"
   ]
  },
  {
   "cell_type": "code",
   "execution_count": null,
   "metadata": {},
   "outputs": [],
   "source": []
  }
 ],
 "metadata": {
  "@webio": {
   "lastCommId": null,
   "lastKernelId": null
  },
  "kernelspec": {
   "display_name": "Python 3 (ipykernel)",
   "language": "python",
   "name": "python3"
  },
  "language_info": {
   "codemirror_mode": {
    "name": "ipython",
    "version": 3
   },
   "file_extension": ".py",
   "mimetype": "text/x-python",
   "name": "python",
   "nbconvert_exporter": "python",
   "pygments_lexer": "ipython3",
   "version": "3.9.7"
  }
 },
 "nbformat": 4,
 "nbformat_minor": 4
}
